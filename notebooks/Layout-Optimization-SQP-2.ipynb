{
 "cells": [
  {
   "cell_type": "code",
   "execution_count": 1,
   "id": "1cd5971d",
   "metadata": {},
   "outputs": [],
   "source": [
    "%load_ext autoreload\n",
    "%autoreload 2"
   ]
  },
  {
   "cell_type": "code",
   "execution_count": 2,
   "id": "e8484583",
   "metadata": {},
   "outputs": [],
   "source": [
    "import numpy as np\n",
    "from scipy import optimize\n",
    "import sys\n",
    "\n",
    "sys.path.insert(1, '../src')\n",
    "from plant import Plant\n",
    "import utils\n",
    "from optimization1 import *"
   ]
  },
  {
   "cell_type": "code",
   "execution_count": 3,
   "id": "d619e5b8",
   "metadata": {},
   "outputs": [
    {
     "name": "stdout",
     "output_type": "stream",
     "text": [
      "True\n",
      "21.748093560879155\n"
     ]
    },
    {
     "data": {
      "image/png": "[encoded data removed]",
      "text/plain": [
       "<Figure size 432x288 with 1 Axes>"
      ]
     },
     "metadata": {
      "needs_background": "light"
     },
     "output_type": "display_data"
    }
   ],
   "source": [
    "hypo_plant = utils.load(\"../data/plants/tiny-plant.json\")\n",
    "\n",
    "basic_layout = np.array([[10, 10], [20, 5], [30, 10]])\n",
    "\n",
    "plant = Plant(hypo_plant, basic_layout)\n",
    "\n",
    "## check result:\n",
    "print(plant.valid_layout)\n",
    "print(utils.get_energy(plant))\n",
    "plant.draw()"
   ]
  },
  {
   "cell_type": "code",
   "execution_count": 4,
   "id": "5a33b24a",
   "metadata": {},
   "outputs": [],
   "source": [
    "def f(x):\n",
    "    plant.layout = x.reshape((3, 2))\n",
    "    plant.set_layout()\n",
    "    return -utils.get_energy(plant)"
   ]
  },
  {
   "cell_type": "code",
   "execution_count": 5,
   "id": "6764f35d",
   "metadata": {},
   "outputs": [
    {
     "data": {
      "text/plain": [
       "array([10, 10, 20,  5, 30, 10])"
      ]
     },
     "execution_count": 5,
     "metadata": {},
     "output_type": "execute_result"
    }
   ],
   "source": [
    "x0 = basic_layout.flatten()\n",
    "x0"
   ]
  },
  {
   "cell_type": "code",
   "execution_count": 6,
   "id": "064250f3",
   "metadata": {},
   "outputs": [
    {
     "data": {
      "text/plain": [
       "-21.748093560879155"
      ]
     },
     "execution_count": 6,
     "metadata": {},
     "output_type": "execute_result"
    }
   ],
   "source": [
    "f(x0)"
   ]
  },
  {
   "cell_type": "code",
   "execution_count": 7,
   "id": "58dca08e",
   "metadata": {},
   "outputs": [
    {
     "data": {
      "text/plain": [
       "[(0, 35), (0, 10), (0, 35), (0, 10), (0, 35), (0, 10)]"
      ]
     },
     "execution_count": 7,
     "metadata": {},
     "output_type": "execute_result"
    }
   ],
   "source": [
    "bounds = []\n",
    "for i in range(3):\n",
    "    bounds.append((0, 35))\n",
    "    bounds.append((0, 10))\n",
    "bounds"
   ]
  },
  {
   "cell_type": "code",
   "execution_count": 8,
   "id": "6b913dab",
   "metadata": {},
   "outputs": [],
   "source": [
    "def g01(x):\n",
    "    i, j = 0, 1\n",
    "    layout = x.reshape(3, 2)\n",
    "    distance = np.linalg.norm(layout[i] - layout[j])\n",
    "    return distance - 4\n",
    "\n",
    "def g02(x):\n",
    "    i, j = 0, 2\n",
    "    layout = x.reshape(3, 2)\n",
    "    distance = np.linalg.norm(layout[i] - layout[j])\n",
    "    return distance - 4\n",
    "\n",
    "def g12(x):\n",
    "    i, j = 1, 2\n",
    "    layout = x.reshape(3, 2)\n",
    "    distance = np.linalg.norm(layout[i] - layout[j])\n",
    "    return distance - 4\n",
    "\n",
    "## TODO: auto generate (n choose 2) constraints\n",
    "# constraints = []\n",
    "# for i in range n:\n",
    "#   for j in range i+1, n:\n",
    "#       constraints.append({ lambda x: g(i,j) })\n",
    "\n",
    "constraints = [{\"type\": \"ineq\", \"fun\": g01},\n",
    "               {\"type\": \"ineq\", \"fun\": g02},\n",
    "               {\"type\": \"ineq\", \"fun\": g12}]"
   ]
  },
  {
   "cell_type": "code",
   "execution_count": 9,
   "id": "f0d6ce3d",
   "metadata": {},
   "outputs": [
    {
     "name": "stdout",
     "output_type": "stream",
     "text": [
      "Optimization terminated successfully    (Exit mode 0)\n",
      "            Current function value: -41.033956692960274\n",
      "            Iterations: 28\n",
      "            Function evaluations: 317\n",
      "            Gradient evaluations: 28\n"
     ]
    }
   ],
   "source": [
    "result = optimize.minimize(f, x0, \n",
    "                           method=\"SLSQP\", \n",
    "                           bounds=bounds,\n",
    "                           constraints=constraints,\n",
    "                           options={'disp': True, 'maxiter': 100})"
   ]
  },
  {
   "cell_type": "code",
   "execution_count": 10,
   "id": "efe7b84e",
   "metadata": {},
   "outputs": [
    {
     "name": "stdout",
     "output_type": "stream",
     "text": [
      "[ 7.86264511  3.60361985 20.          5.         30.         10.        ]\n",
      "     fun: -41.033956692960274\n",
      "     jac: array([ 0.52402258,  0.48407221,  0.        ,  0.        ,  0.        ,\n",
      "       -0.        ])\n",
      " message: 'Optimization terminated successfully'\n",
      "    nfev: 317\n",
      "     nit: 28\n",
      "    njev: 28\n",
      "  status: 0\n",
      " success: True\n",
      "       x: array([ 7.86264511,  3.60361985, 20.        ,  5.        , 30.        ,\n",
      "       10.        ])\n",
      "True\n",
      "41.033956692960274\n"
     ]
    },
    {
     "data": {
      "image/png": "[encoded data removed]",
      "text/plain": [
       "<Figure size 432x288 with 1 Axes>"
      ]
     },
     "metadata": {
      "needs_background": "light"
     },
     "output_type": "display_data"
    }
   ],
   "source": [
    "print(result[\"x\"])\n",
    "print(result)\n",
    "\n",
    "plant.layout = result['x'].reshape((3, 2))\n",
    "plant.set_layout()\n",
    "print(plant.valid_layout)\n",
    "print(utils.get_energy(plant))\n",
    "plant.draw()"
   ]
  },
  {
   "cell_type": "code",
   "execution_count": null,
   "id": "7506416b",
   "metadata": {},
   "outputs": [],
   "source": []
  }
 ],
 "metadata": {
  "kernelspec": {
   "display_name": "Python 3",
   "language": "python",
   "name": "python3"
  },
  "language_info": {
   "codemirror_mode": {
    "name": "ipython",
    "version": 3
   },
   "file_extension": ".py",
   "mimetype": "text/x-python",
   "name": "python",
   "nbconvert_exporter": "python",
   "pygments_lexer": "ipython3",
   "version": "3.8.10"
  }
 },
 "nbformat": 4,
 "nbformat_minor": 5
}
